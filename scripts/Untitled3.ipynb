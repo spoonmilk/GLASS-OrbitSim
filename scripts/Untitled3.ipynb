{
 "cells": [
  {
   "cell_type": "code",
   "execution_count": null,
   "id": "ec283753-bdfd-4409-b74f-08f7926399ab",
   "metadata": {},
   "outputs": [],
   "source": [
    "import numpy as np\n",
    "import math\n",
    "import navpy\n",
    "import datetime\n",
    "\n",
    "from astropy import units as u\n",
    "from astropy.time import Time, TimeDelta\n",
    "from astropy.coordinates import (\n",
    "    CartesianRepresentation,\n",
    "    AltAz,\n",
    "    EarthLocation,\n",
    "    GCRS,\n",
    "    ITRS,\n",
    ")\n",
    "from astropy import coordinates as coord\n",
    "\n",
    "from poliastro.bodies import Earth\n",
    "from poliastro.earth import EarthSatellite\n",
    "from poliastro.maneuver import Maneuver\n",
    "from poliastro.earth.enums import EarthGravity\n",
    "from poliastro.spacecraft import Spacecraft\n",
    "from poliastro.twobody.orbit import Orbit\n",
    "from poliastro.frames import Planes\n",
    "from poliastro.plotting import OrbitPlotter3D\n",
    "from poliastro.examples import iss\n",
    "from poliastro.core.spheroid_location import cartesian_to_ellipsoidal\n",
    "from poliastro.core.spheroid_location import tangential_vecs\n",
    "\n",
    "plotter = OrbitPlotter3D()\n",
    "init_orbit = Orbit.circular(Earth, alt=1000 << u.km)\n",
    "plotter.plot(init_orbit \n",
    "\n",
    "\n"
   ]
  },
  {
   "cell_type": "code",
   "execution_count": null,
   "id": "84314f81-5691-4428-ae67-ef020dee6e2d",
   "metadata": {},
   "outputs": [],
   "source": []
  }
 ],
 "metadata": {
  "kernelspec": {
   "display_name": "Python 3 (ipykernel)",
   "language": "python",
   "name": "python3"
  },
  "language_info": {
   "codemirror_mode": {
    "name": "ipython",
    "version": 3
   },
   "file_extension": ".py",
   "mimetype": "text/x-python",
   "name": "python",
   "nbconvert_exporter": "python",
   "pygments_lexer": "ipython3",
   "version": "3.10.11"
  }
 },
 "nbformat": 4,
 "nbformat_minor": 5
}
